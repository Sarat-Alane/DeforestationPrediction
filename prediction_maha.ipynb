{
  "cells": [
    {
      "cell_type": "code",
      "execution_count": 1,
      "metadata": {
        "colab": {
          "base_uri": "https://localhost:8080/"
        },
        "id": "3nKezdbO-n31",
        "outputId": "fa6d60e2-f592-4ccc-d52b-c10bbd70e40b"
      },
      "outputs": [
        {
          "name": "stdout",
          "output_type": "stream",
          "text": [
            "Defaulting to user installation because normal site-packages is not writeable\n",
            "Requirement already satisfied: streamlit in c:\\users\\sarat\\appdata\\roaming\\python\\python311\\site-packages (1.46.0)\n",
            "Requirement already satisfied: streamlit-folium in c:\\users\\sarat\\appdata\\roaming\\python\\python311\\site-packages (0.25.0)\n",
            "Requirement already satisfied: altair<6,>=4.0 in c:\\users\\sarat\\appdata\\roaming\\python\\python311\\site-packages (from streamlit) (5.5.0)\n",
            "Requirement already satisfied: blinker<2,>=1.5.0 in c:\\users\\sarat\\appdata\\roaming\\python\\python311\\site-packages (from streamlit) (1.9.0)\n",
            "Requirement already satisfied: cachetools<7,>=4.0 in c:\\users\\sarat\\appdata\\roaming\\python\\python311\\site-packages (from streamlit) (5.5.2)\n",
            "Requirement already satisfied: click<9,>=7.0 in c:\\users\\sarat\\appdata\\roaming\\python\\python311\\site-packages (from streamlit) (8.2.1)\n",
            "Requirement already satisfied: numpy<3,>=1.23 in c:\\users\\sarat\\appdata\\roaming\\python\\python311\\site-packages (from streamlit) (2.3.0)\n",
            "Requirement already satisfied: packaging<26,>=20 in c:\\users\\sarat\\appdata\\roaming\\python\\python311\\site-packages (from streamlit) (25.0)\n",
            "Requirement already satisfied: pandas<3,>=1.4.0 in c:\\users\\sarat\\appdata\\roaming\\python\\python311\\site-packages (from streamlit) (2.3.0)\n",
            "Requirement already satisfied: pillow<12,>=7.1.0 in c:\\users\\sarat\\appdata\\roaming\\python\\python311\\site-packages (from streamlit) (11.2.1)\n",
            "Requirement already satisfied: protobuf<7,>=3.20 in c:\\users\\sarat\\appdata\\roaming\\python\\python311\\site-packages (from streamlit) (6.31.1)\n",
            "Requirement already satisfied: pyarrow>=7.0 in c:\\users\\sarat\\appdata\\roaming\\python\\python311\\site-packages (from streamlit) (20.0.0)\n",
            "Requirement already satisfied: requests<3,>=2.27 in c:\\users\\sarat\\appdata\\roaming\\python\\python311\\site-packages (from streamlit) (2.32.4)\n",
            "Requirement already satisfied: tenacity<10,>=8.1.0 in c:\\users\\sarat\\appdata\\roaming\\python\\python311\\site-packages (from streamlit) (9.1.2)\n",
            "Requirement already satisfied: toml<2,>=0.10.1 in c:\\users\\sarat\\appdata\\roaming\\python\\python311\\site-packages (from streamlit) (0.10.2)\n",
            "Requirement already satisfied: typing-extensions<5,>=4.4.0 in c:\\users\\sarat\\appdata\\roaming\\python\\python311\\site-packages (from streamlit) (4.14.0)\n",
            "Requirement already satisfied: watchdog<7,>=2.1.5 in c:\\users\\sarat\\appdata\\roaming\\python\\python311\\site-packages (from streamlit) (6.0.0)\n",
            "Requirement already satisfied: gitpython!=3.1.19,<4,>=3.0.7 in c:\\users\\sarat\\appdata\\roaming\\python\\python311\\site-packages (from streamlit) (3.1.44)\n",
            "Requirement already satisfied: pydeck<1,>=0.8.0b4 in c:\\users\\sarat\\appdata\\roaming\\python\\python311\\site-packages (from streamlit) (0.9.1)\n",
            "Requirement already satisfied: tornado!=6.5.0,<7,>=6.0.3 in c:\\users\\sarat\\appdata\\roaming\\python\\python311\\site-packages (from streamlit) (6.5.1)\n",
            "Requirement already satisfied: folium!=0.15.0,>=0.13 in c:\\users\\sarat\\appdata\\roaming\\python\\python311\\site-packages (from streamlit-folium) (0.20.0)\n",
            "Requirement already satisfied: jinja2 in c:\\users\\sarat\\appdata\\roaming\\python\\python311\\site-packages (from streamlit-folium) (3.1.6)\n",
            "Requirement already satisfied: branca in c:\\users\\sarat\\appdata\\roaming\\python\\python311\\site-packages (from streamlit-folium) (0.8.1)\n",
            "Requirement already satisfied: jsonschema>=3.0 in c:\\users\\sarat\\appdata\\roaming\\python\\python311\\site-packages (from altair<6,>=4.0->streamlit) (4.24.0)\n",
            "Requirement already satisfied: narwhals>=1.14.2 in c:\\users\\sarat\\appdata\\roaming\\python\\python311\\site-packages (from altair<6,>=4.0->streamlit) (1.43.1)\n",
            "Requirement already satisfied: colorama in c:\\users\\sarat\\appdata\\roaming\\python\\python311\\site-packages (from click<9,>=7.0->streamlit) (0.4.6)\n",
            "Requirement already satisfied: xyzservices in c:\\users\\sarat\\appdata\\roaming\\python\\python311\\site-packages (from folium!=0.15.0,>=0.13->streamlit-folium) (2025.4.0)\n",
            "Requirement already satisfied: gitdb<5,>=4.0.1 in c:\\users\\sarat\\appdata\\roaming\\python\\python311\\site-packages (from gitpython!=3.1.19,<4,>=3.0.7->streamlit) (4.0.12)\n",
            "Requirement already satisfied: MarkupSafe>=2.0 in c:\\users\\sarat\\appdata\\roaming\\python\\python311\\site-packages (from jinja2->streamlit-folium) (3.0.2)\n",
            "Requirement already satisfied: python-dateutil>=2.8.2 in c:\\users\\sarat\\appdata\\roaming\\python\\python311\\site-packages (from pandas<3,>=1.4.0->streamlit) (2.9.0.post0)\n",
            "Requirement already satisfied: pytz>=2020.1 in c:\\users\\sarat\\appdata\\roaming\\python\\python311\\site-packages (from pandas<3,>=1.4.0->streamlit) (2025.2)\n",
            "Requirement already satisfied: tzdata>=2022.7 in c:\\users\\sarat\\appdata\\roaming\\python\\python311\\site-packages (from pandas<3,>=1.4.0->streamlit) (2025.2)\n",
            "Requirement already satisfied: charset_normalizer<4,>=2 in c:\\users\\sarat\\appdata\\roaming\\python\\python311\\site-packages (from requests<3,>=2.27->streamlit) (3.4.2)\n",
            "Requirement already satisfied: idna<4,>=2.5 in c:\\users\\sarat\\appdata\\roaming\\python\\python311\\site-packages (from requests<3,>=2.27->streamlit) (3.10)\n",
            "Requirement already satisfied: urllib3<3,>=1.21.1 in c:\\users\\sarat\\appdata\\roaming\\python\\python311\\site-packages (from requests<3,>=2.27->streamlit) (2.5.0)\n",
            "Requirement already satisfied: certifi>=2017.4.17 in c:\\users\\sarat\\appdata\\roaming\\python\\python311\\site-packages (from requests<3,>=2.27->streamlit) (2025.6.15)\n",
            "Requirement already satisfied: smmap<6,>=3.0.1 in c:\\users\\sarat\\appdata\\roaming\\python\\python311\\site-packages (from gitdb<5,>=4.0.1->gitpython!=3.1.19,<4,>=3.0.7->streamlit) (5.0.2)\n",
            "Requirement already satisfied: attrs>=22.2.0 in c:\\users\\sarat\\appdata\\roaming\\python\\python311\\site-packages (from jsonschema>=3.0->altair<6,>=4.0->streamlit) (25.3.0)\n",
            "Requirement already satisfied: jsonschema-specifications>=2023.03.6 in c:\\users\\sarat\\appdata\\roaming\\python\\python311\\site-packages (from jsonschema>=3.0->altair<6,>=4.0->streamlit) (2025.4.1)\n",
            "Requirement already satisfied: referencing>=0.28.4 in c:\\users\\sarat\\appdata\\roaming\\python\\python311\\site-packages (from jsonschema>=3.0->altair<6,>=4.0->streamlit) (0.36.2)\n",
            "Requirement already satisfied: rpds-py>=0.7.1 in c:\\users\\sarat\\appdata\\roaming\\python\\python311\\site-packages (from jsonschema>=3.0->altair<6,>=4.0->streamlit) (0.25.1)\n",
            "Requirement already satisfied: six>=1.5 in c:\\users\\sarat\\appdata\\roaming\\python\\python311\\site-packages (from python-dateutil>=2.8.2->pandas<3,>=1.4.0->streamlit) (1.17.0)\n",
            "Note: you may need to restart the kernel to use updated packages.\n"
          ]
        },
        {
          "name": "stderr",
          "output_type": "stream",
          "text": [
            "\n",
            "[notice] A new release of pip is available: 24.0 -> 25.1.1\n",
            "[notice] To update, run: python.exe -m pip install --upgrade pip\n"
          ]
        }
      ],
      "source": [
        "pip install streamlit streamlit-folium"
      ]
    },
    {
      "cell_type": "code",
      "execution_count": 2,
      "metadata": {
        "id": "1dprqz6IBr2I"
      },
      "outputs": [
        {
          "name": "stderr",
          "output_type": "stream",
          "text": [
            "2025-06-21 12:56:36.727 WARNING streamlit.runtime.scriptrunner_utils.script_run_context: Thread 'MainThread': missing ScriptRunContext! This warning can be ignored when running in bare mode.\n"
          ]
        }
      ],
      "source": [
        "import streamlit as st\n",
        "import folium\n",
        "from streamlit_folium import st_folium\n",
        "import joblib\n",
        "import numpy as np\n",
        "import ee\n",
        "import datetime\n",
        "\n",
        "# --- Initialize Earth Engine ---\n",
        "ee.Authenticate()\n",
        "ee.Initialize(project='ringed-trail-454308-d2')"
      ]
    },
    {
      "cell_type": "code",
      "execution_count": 3,
      "metadata": {
        "id": "l03j4LjHLbm4"
      },
      "outputs": [],
      "source": [
        "import geopandas as gpd\n",
        "import json\n",
        "from shapely.geometry import shape"
      ]
    },
    {
      "cell_type": "code",
      "execution_count": 4,
      "metadata": {
        "id": "1WMdI7gf9t3r"
      },
      "outputs": [],
      "source": [
        "code='''\n",
        "import joblib\n",
        "import streamlit as st\n",
        "import folium\n",
        "from streamlit_folium import st_folium\n",
        "import numpy as np\n",
        "import geopandas as gpd\n",
        "import datetime\n",
        "import ee\n",
        "from shapely.geometry import shape\n",
        "\n",
        "# Initialize Earth Engine\n",
        "ee.Initialize(project='ringed-trail-454308-d2')\n",
        "\n",
        "# Load trained ensemble model and scaler\n",
        "model = joblib.load(\"this_ensemble_model.pkl\")\n",
        "scaler = joblib.load(\"this_scaler.pkl\")\n",
        "\n",
        "# UI setup\n",
        "st.set_page_config(layout=\"wide\")\n",
        "st.title(\"🧠 Deforestation Prediction Grid Map (Maharashtra Region)\")\n",
        "\n",
        "@st.cache_data\n",
        "def load_grid():\n",
        "    return gpd.read_file(\"Maharashtra_5x5km_Grid.geojson\")\n",
        "\n",
        "gdf = load_grid()\n",
        "gdf[\"predicted\"] = None\n",
        "\n",
        "# Toggle prediction color overlay\n",
        "enable_colors = st.checkbox(\"🟩🟥 Show prediction color (green: forest, red: deforested)\", value=True)\n",
        "\n",
        "# Center map around Maharashtra\n",
        "m = folium.Map(location=[19.5, 74], zoom_start=7.5, control_scale=True)\n",
        "\n",
        "# Add grid cells with dynamic styling\n",
        "for _, row in gdf.iterrows():\n",
        "    pred = row[\"predicted\"]\n",
        "    fill = \"gray\"\n",
        "    if enable_colors and pred in [0, 1]:\n",
        "        fill = \"green\" if pred == 0 else \"red\"\n",
        "\n",
        "    folium.GeoJson(\n",
        "        row[\"geometry\"],\n",
        "        style_function=lambda x, fill_color=fill: {\n",
        "            \"fillColor\": fill_color,\n",
        "            \"color\": \"black\",\n",
        "            \"weight\": 0.5,\n",
        "            \"fillOpacity\": 0.6 if enable_colors else 0.1\n",
        "        }\n",
        "    ).add_to(m)\n",
        "\n",
        "st.markdown(\"### 📍 Click on a grid cell to get deforestation prediction\")\n",
        "map_data = st_folium(m, height=600, width=900)\n",
        "\n",
        "if map_data.get(\"last_clicked\"):\n",
        "    click_point = shape({\n",
        "        \"type\": \"Point\",\n",
        "        \"coordinates\": [map_data[\"last_clicked\"][\"lng\"], map_data[\"last_clicked\"][\"lat\"]]\n",
        "    })\n",
        "\n",
        "    selected = gdf[gdf.geometry.contains(click_point)]\n",
        "    if selected.empty:\n",
        "        st.warning(\"⚠️ Click within a valid grid cell.\")\n",
        "    else:\n",
        "        cell_idx = selected.index[0]\n",
        "        cell = selected.iloc[0]\n",
        "        lon, lat = cell.geometry.centroid.x, cell.geometry.centroid.y\n",
        "        st.info(f\"🧭 Selected Cell Center: ({lat:.4f}, {lon:.4f})\")\n",
        "\n",
        "        point = ee.Geometry.Point([lon, lat])\n",
        "        try:\n",
        "            end_date = datetime.datetime.now().date()\n",
        "            start_date = end_date - datetime.timedelta(days=30)\n",
        "\n",
        "            # NDVI & EVI\n",
        "            mod13 = ee.ImageCollection(\"MODIS/061/MOD13Q1\") \\\n",
        "                .filterBounds(point).filterDate(str(start_date), str(end_date)) \\\n",
        "                .select([\"NDVI\", \"EVI\"]).mean()\n",
        "            ndvi = mod13.select(\"NDVI\").multiply(0.0001).reduceRegion(ee.Reducer.mean(), point, 250).get(\"NDVI\").getInfo()\n",
        "            evi = mod13.select(\"EVI\").multiply(0.0001).reduceRegion(ee.Reducer.mean(), point, 250).get(\"EVI\").getInfo()\n",
        "\n",
        "            # NDMI\n",
        "            def compute_ndmi(img):\n",
        "                return img.addBands(img.normalizedDifference(['sur_refl_b02', 'sur_refl_b06']).rename(\"NDMI\"))\n",
        "\n",
        "            ndmi_img = ee.ImageCollection(\"MODIS/061/MOD09GA\") \\\n",
        "                .filterBounds(point).filterDate(str(start_date), str(end_date)) \\\n",
        "                .map(compute_ndmi).select(\"NDMI\").mean()\n",
        "            ndmi = ndmi_img.reduceRegion(ee.Reducer.mean(), point, 500).get(\"NDMI\").getInfo()\n",
        "\n",
        "            # Precipitation\n",
        "            precip = ee.ImageCollection(\"UCSB-CHG/CHIRPS/DAILY\") \\\n",
        "                .filterDate(str(start_date), str(end_date)) \\\n",
        "                .select(\"precipitation\").sum().reduceRegion(ee.Reducer.mean(), point, 5000).get(\"precipitation\").getInfo()\n",
        "\n",
        "            # LST\n",
        "            lst_img = ee.ImageCollection(\"MODIS/061/MOD11A1\") \\\n",
        "                .filterDate(str(start_date), str(end_date)) \\\n",
        "                .select(\"LST_Day_1km\").mean()\n",
        "            lst = lst_img.multiply(0.02).subtract(273.15).reduceRegion(ee.Reducer.mean(), point, 1000).get(\"LST_Day_1km\").getInfo()\n",
        "\n",
        "            # Treecover (static or annual)\n",
        "            treecover_img = ee.ImageCollection(\"MODIS/061/MOD44B\") \\\n",
        "                .filterBounds(point).select(\"Percent_Tree_Cover\").mean()\n",
        "            treecover = treecover_img.reduceRegion(ee.Reducer.mean(), point, 250).get(\"Percent_Tree_Cover\").getInfo()\n",
        "\n",
        "            # Seasonal anomaly\n",
        "            month = end_date.month\n",
        "            # These would ideally come from precomputed monthly means\n",
        "            lst_season_mean = 30  # placeholder\n",
        "            precip_season_mean = 50  # placeholder\n",
        "            lst_anomaly = lst - lst_season_mean\n",
        "            precip_anomaly = precip - precip_season_mean\n",
        "\n",
        "            features = np.array([[evi, ndmi, lst_anomaly, precip_anomaly, treecover]])\n",
        "            scaled = scaler.transform(features)\n",
        "            pred = model.predict(scaled)[0]\n",
        "            label = \"Deforested\" if pred == 1 else \"Forest\"\n",
        "\n",
        "            gdf.at[cell_idx, \"predicted\"] = pred\n",
        "\n",
        "            st.success(f\"✅ Prediction: {label}\")\n",
        "            st.markdown(\"📊 **Feature Summary**\")\n",
        "            st.table({\n",
        "                \"NDVI\": [round(ndvi, 4)],\n",
        "                \"EVI\": [round(evi, 4)],\n",
        "                \"NDMI\": [round(ndmi, 4)],\n",
        "                \"LST (°C)\": [round(lst, 2)],\n",
        "                \"LST Anomaly\": [round(lst_anomaly, 2)],\n",
        "                \"Precipitation (mm)\": [round(precip, 2)],\n",
        "                \"Precip Anomaly\": [round(precip_anomaly, 2)],\n",
        "                \"Treecover\": [round(treecover, 1)]\n",
        "            })\n",
        "\n",
        "        except Exception as e:\n",
        "            st.error(\"❌ Error during prediction.\")\n",
        "            st.text(str(e))\n",
        "\n",
        "'''"
      ]
    },
    {
      "cell_type": "code",
      "execution_count": 6,
      "metadata": {
        "id": "bRcY-1IaA7Be"
      },
      "outputs": [],
      "source": [
        "with open(\"app.py\", \"w\", encoding=\"utf-8\") as f:\n",
        "    f.write(code)\n"
      ]
    },
    {
      "cell_type": "code",
      "execution_count": 7,
      "metadata": {
        "colab": {
          "base_uri": "https://localhost:8080/"
        },
        "id": "JTdq-_8EAT2r",
        "outputId": "64664378-f731-45ec-ca99-7a3b695872bf"
      },
      "outputs": [
        {
          "name": "stderr",
          "output_type": "stream",
          "text": [
            "'wget' is not recognized as an internal or external command,\n",
            "operable program or batch file.\n"
          ]
        }
      ],
      "source": [
        "!wget -q -O - ipv4.icanhazip.com\n"
      ]
    },
    {
      "cell_type": "code",
      "execution_count": null,
      "metadata": {
        "colab": {
          "base_uri": "https://localhost:8080/"
        },
        "id": "_8rEIXdLAXiU",
        "outputId": "3be7e516-a170-4d8d-91b2-d98405fe5a94"
      },
      "outputs": [],
      "source": [
        "!streamlit run app.py & npx localtunnel --port 8501"
      ]
    },
    {
      "cell_type": "code",
      "execution_count": null,
      "metadata": {
        "id": "eaJkqyFdUGIm"
      },
      "outputs": [],
      "source": []
    }
  ],
  "metadata": {
    "colab": {
      "provenance": []
    },
    "kernelspec": {
      "display_name": "Python 3",
      "name": "python3"
    },
    "language_info": {
      "codemirror_mode": {
        "name": "ipython",
        "version": 3
      },
      "file_extension": ".py",
      "mimetype": "text/x-python",
      "name": "python",
      "nbconvert_exporter": "python",
      "pygments_lexer": "ipython3",
      "version": "3.11.9"
    }
  },
  "nbformat": 4,
  "nbformat_minor": 0
}
